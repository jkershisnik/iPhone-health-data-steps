{
 "cells": [
  {
   "cell_type": "code",
   "execution_count": 1,
   "metadata": {},
   "outputs": [],
   "source": [
    "### IMPORTS ###\n",
    "import os\n",
    "import xml.etree.ElementTree as et\n",
    "import pandas as pd\n",
    "import numpy as np\n",
    "import re\n",
    "import datetime"
   ]
  },
  {
   "cell_type": "markdown",
   "metadata": {},
   "source": [
    "## Data Wrangling"
   ]
  },
  {
   "cell_type": "code",
   "execution_count": 2,
   "metadata": {},
   "outputs": [
    {
     "data": {
      "text/plain": [
       "'/Users/jkm/Desktop/Python/apple_health_export'"
      ]
     },
     "execution_count": 2,
     "metadata": {},
     "output_type": "execute_result"
    }
   ],
   "source": [
    "### SET WORKING DIRECTORY ###\n",
    "path = \"/Users/JKM/Desktop/Python/apple_health_export\"\n",
    "os.chdir(path)\n",
    "os.getcwd()"
   ]
  },
  {
   "cell_type": "code",
   "execution_count": 3,
   "metadata": {},
   "outputs": [
    {
     "data": {
      "text/html": [
       "<div>\n",
       "<style scoped>\n",
       "    .dataframe tbody tr th:only-of-type {\n",
       "        vertical-align: middle;\n",
       "    }\n",
       "\n",
       "    .dataframe tbody tr th {\n",
       "        vertical-align: top;\n",
       "    }\n",
       "\n",
       "    .dataframe thead th {\n",
       "        text-align: right;\n",
       "    }\n",
       "</style>\n",
       "<table border=\"1\" class=\"dataframe\">\n",
       "  <thead>\n",
       "    <tr style=\"text-align: right;\">\n",
       "      <th></th>\n",
       "      <th>types</th>\n",
       "      <th>sourceName</th>\n",
       "      <th>sourceVersion</th>\n",
       "      <th>device</th>\n",
       "      <th>name</th>\n",
       "      <th>manufacturer</th>\n",
       "      <th>model</th>\n",
       "      <th>hardware</th>\n",
       "      <th>software</th>\n",
       "      <th>unit</th>\n",
       "      <th>creationDate</th>\n",
       "      <th>startDate</th>\n",
       "      <th>endDate</th>\n",
       "      <th>value</th>\n",
       "    </tr>\n",
       "  </thead>\n",
       "  <tbody>\n",
       "    <tr>\n",
       "      <th>0</th>\n",
       "      <td>HKQuantityTypeIdentifierStepCount</td>\n",
       "      <td>JKM II</td>\n",
       "      <td>10.2.1</td>\n",
       "      <td>&lt;&lt;HKDevice: 0x281e244b0&gt;, name:iPhone, manufac...</td>\n",
       "      <td>None</td>\n",
       "      <td>None</td>\n",
       "      <td>None</td>\n",
       "      <td>None</td>\n",
       "      <td>None</td>\n",
       "      <td>count</td>\n",
       "      <td>2017-02-04 18:40:43 -0500</td>\n",
       "      <td>2017-02-04 17:46:36 -0500</td>\n",
       "      <td>2017-02-04 17:53:30 -0500</td>\n",
       "      <td>13</td>\n",
       "    </tr>\n",
       "    <tr>\n",
       "      <th>1</th>\n",
       "      <td>HKQuantityTypeIdentifierStepCount</td>\n",
       "      <td>JKM II</td>\n",
       "      <td>10.2.1</td>\n",
       "      <td>&lt;&lt;HKDevice: 0x281e24c80&gt;, name:iPhone, manufac...</td>\n",
       "      <td>None</td>\n",
       "      <td>None</td>\n",
       "      <td>None</td>\n",
       "      <td>None</td>\n",
       "      <td>None</td>\n",
       "      <td>count</td>\n",
       "      <td>2017-02-04 18:40:43 -0500</td>\n",
       "      <td>2017-02-04 17:53:30 -0500</td>\n",
       "      <td>2017-02-04 17:58:52 -0500</td>\n",
       "      <td>8</td>\n",
       "    </tr>\n",
       "  </tbody>\n",
       "</table>\n",
       "</div>"
      ],
      "text/plain": [
       "                               types sourceName sourceVersion  \\\n",
       "0  HKQuantityTypeIdentifierStepCount     JKM II        10.2.1   \n",
       "1  HKQuantityTypeIdentifierStepCount     JKM II        10.2.1   \n",
       "\n",
       "                                              device  name manufacturer model  \\\n",
       "0  <<HKDevice: 0x281e244b0>, name:iPhone, manufac...  None         None  None   \n",
       "1  <<HKDevice: 0x281e24c80>, name:iPhone, manufac...  None         None  None   \n",
       "\n",
       "  hardware software   unit               creationDate  \\\n",
       "0     None     None  count  2017-02-04 18:40:43 -0500   \n",
       "1     None     None  count  2017-02-04 18:40:43 -0500   \n",
       "\n",
       "                   startDate                    endDate value  \n",
       "0  2017-02-04 17:46:36 -0500  2017-02-04 17:53:30 -0500    13  \n",
       "1  2017-02-04 17:53:30 -0500  2017-02-04 17:58:52 -0500     8  "
      ]
     },
     "execution_count": 3,
     "metadata": {},
     "output_type": "execute_result"
    }
   ],
   "source": [
    "# Create dataframe\n",
    "tree = et.parse('export.xml')\n",
    "root = tree.getroot()\n",
    "df_cols = ['types', 'sourceName', 'sourceVersion', 'device', 'name', 'manufacturer', 'model',\n",
    "          'hardware', 'software', 'unit', 'creationDate', 'startDate', 'endDate', 'value']\n",
    "rows = []\n",
    "\n",
    "for node in root:\n",
    "    if node.attrib.get('type') in ['HKQuantityTypeIdentifierStepCount']:\n",
    "        types = node.attrib.get('type') if node is not None else None\n",
    "        sourceName = node.attrib.get('sourceName') if node is not None else None\n",
    "        sourceVersion = node.attrib.get('sourceVersion') if node is not None else None\n",
    "        device = node.attrib.get('device') if node is not None else None\n",
    "        name = node.attrib.get('name') if node is not None else None\n",
    "        manufacturer = node.attrib.get('manufacturer') if node is not None else None\n",
    "        model = node.attrib.get('iPhone') if node is not None else None\n",
    "        hardware = node.attrib.get('hardware') if node is not None else None\n",
    "        software = node.attrib.get('software') if node is not None else None\n",
    "        unit = node.attrib.get('unit') if node is not None else None\n",
    "        creationDate = node.attrib.get('creationDate') if node is not None else None\n",
    "        startDate = node.attrib.get('startDate') if node is not None else None\n",
    "        endDate = node.attrib.get('endDate') if node is not None else None\n",
    "        value = node.attrib.get('value') if node is not None else None\n",
    "        \n",
    "        rows.append({'types':types,'sourceName':sourceName,'sourceVersion':sourceVersion,'device':device,'name':name,\n",
    "                     'manufacturer':manufacturer,'model':model,'hardware':hardware,'software': software, 'unit': unit,\n",
    "                     'creationDate': creationDate,'startDate':startDate,'endDate':endDate,'value':value})\n",
    "\n",
    "df = pd.DataFrame(rows, columns=df_cols)\n",
    "df.head(2)"
   ]
  },
  {
   "cell_type": "code",
   "execution_count": 4,
   "metadata": {},
   "outputs": [
    {
     "data": {
      "text/html": [
       "<div>\n",
       "<style scoped>\n",
       "    .dataframe tbody tr th:only-of-type {\n",
       "        vertical-align: middle;\n",
       "    }\n",
       "\n",
       "    .dataframe tbody tr th {\n",
       "        vertical-align: top;\n",
       "    }\n",
       "\n",
       "    .dataframe thead th {\n",
       "        text-align: right;\n",
       "    }\n",
       "</style>\n",
       "<table border=\"1\" class=\"dataframe\">\n",
       "  <thead>\n",
       "    <tr style=\"text-align: right;\">\n",
       "      <th></th>\n",
       "      <th>types</th>\n",
       "      <th>sourceName</th>\n",
       "      <th>sourceVersion</th>\n",
       "      <th>device</th>\n",
       "      <th>name</th>\n",
       "      <th>manufacturer</th>\n",
       "      <th>model</th>\n",
       "      <th>hardware</th>\n",
       "      <th>software</th>\n",
       "      <th>unit</th>\n",
       "      <th>creationDate</th>\n",
       "      <th>startDate</th>\n",
       "      <th>endDate</th>\n",
       "      <th>value</th>\n",
       "    </tr>\n",
       "  </thead>\n",
       "  <tbody>\n",
       "    <tr>\n",
       "      <th>0</th>\n",
       "      <td>HKQuantityTypeIdentifierStepCount</td>\n",
       "      <td>JKM II</td>\n",
       "      <td>10.2.1</td>\n",
       "      <td>0x281e244b0</td>\n",
       "      <td>iPhone</td>\n",
       "      <td>Apple</td>\n",
       "      <td>iPhone</td>\n",
       "      <td>iPhone8,4</td>\n",
       "      <td>10.2.1</td>\n",
       "      <td>count</td>\n",
       "      <td>2017-02-04 18:40:43 -0500</td>\n",
       "      <td>2017-02-04 17:46:36 -0500</td>\n",
       "      <td>2017-02-04 17:53:30 -0500</td>\n",
       "      <td>13</td>\n",
       "    </tr>\n",
       "    <tr>\n",
       "      <th>1</th>\n",
       "      <td>HKQuantityTypeIdentifierStepCount</td>\n",
       "      <td>JKM II</td>\n",
       "      <td>10.2.1</td>\n",
       "      <td>0x281e24c80</td>\n",
       "      <td>iPhone</td>\n",
       "      <td>Apple</td>\n",
       "      <td>iPhone</td>\n",
       "      <td>iPhone8,4</td>\n",
       "      <td>10.2.1</td>\n",
       "      <td>count</td>\n",
       "      <td>2017-02-04 18:40:43 -0500</td>\n",
       "      <td>2017-02-04 17:53:30 -0500</td>\n",
       "      <td>2017-02-04 17:58:52 -0500</td>\n",
       "      <td>8</td>\n",
       "    </tr>\n",
       "  </tbody>\n",
       "</table>\n",
       "</div>"
      ],
      "text/plain": [
       "                               types sourceName sourceVersion        device  \\\n",
       "0  HKQuantityTypeIdentifierStepCount     JKM II        10.2.1   0x281e244b0   \n",
       "1  HKQuantityTypeIdentifierStepCount     JKM II        10.2.1   0x281e24c80   \n",
       "\n",
       "     name manufacturer   model   hardware software   unit  \\\n",
       "0  iPhone        Apple  iPhone  iPhone8,4   10.2.1  count   \n",
       "1  iPhone        Apple  iPhone  iPhone8,4   10.2.1  count   \n",
       "\n",
       "                creationDate                  startDate  \\\n",
       "0  2017-02-04 18:40:43 -0500  2017-02-04 17:46:36 -0500   \n",
       "1  2017-02-04 18:40:43 -0500  2017-02-04 17:53:30 -0500   \n",
       "\n",
       "                     endDate value  \n",
       "0  2017-02-04 17:53:30 -0500    13  \n",
       "1  2017-02-04 17:58:52 -0500     8  "
      ]
     },
     "execution_count": 4,
     "metadata": {},
     "output_type": "execute_result"
    }
   ],
   "source": [
    "# Fix device-related columns\n",
    "cols_update = ['device', 'name', 'manufacturer', 'model', 'hardware', 'software']\n",
    "rows_update = []\n",
    "for i in range(len(df.iloc[:,3])):\n",
    "    if df.iloc[:,1][i] == 'Health':\n",
    "        rows_update.append({'device':None, 'name':None, 'manufacturer':None,\n",
    "                                  'model':None, 'hardware':None, 'software':None}) \n",
    "    else:\n",
    "        text = df.iloc[:,3][i]\n",
    "        text = text.replace('<', '')\n",
    "        text = text.replace('>', '')\n",
    "        device_list = re.split(', |:', text)\n",
    "        rows_update.append({'device':device_list[1],'name':device_list[3], 'manufacturer':device_list[5],\n",
    "                                  'model':device_list[7], 'hardware':device_list[9], 'software':device_list[11]})\n",
    "\n",
    "update_df = pd.DataFrame(rows_update, columns=cols_update)\n",
    "for i in cols_update:\n",
    "    df[i] = update_df[i]\n",
    "df.head(2)"
   ]
  },
  {
   "cell_type": "code",
   "execution_count": 5,
   "metadata": {},
   "outputs": [
    {
     "data": {
      "text/html": [
       "<div>\n",
       "<style scoped>\n",
       "    .dataframe tbody tr th:only-of-type {\n",
       "        vertical-align: middle;\n",
       "    }\n",
       "\n",
       "    .dataframe tbody tr th {\n",
       "        vertical-align: top;\n",
       "    }\n",
       "\n",
       "    .dataframe thead th {\n",
       "        text-align: right;\n",
       "    }\n",
       "</style>\n",
       "<table border=\"1\" class=\"dataframe\">\n",
       "  <thead>\n",
       "    <tr style=\"text-align: right;\">\n",
       "      <th></th>\n",
       "      <th>types</th>\n",
       "      <th>sourceName</th>\n",
       "      <th>sourceVersion</th>\n",
       "      <th>device</th>\n",
       "      <th>name</th>\n",
       "      <th>manufacturer</th>\n",
       "      <th>model</th>\n",
       "      <th>hardware</th>\n",
       "      <th>software</th>\n",
       "      <th>unit</th>\n",
       "      <th>creationDate</th>\n",
       "      <th>startDate</th>\n",
       "      <th>endDate</th>\n",
       "      <th>value</th>\n",
       "      <th>yearSD</th>\n",
       "      <th>monthSD</th>\n",
       "      <th>daySD</th>\n",
       "      <th>hourSD</th>\n",
       "      <th>timezoneSD</th>\n",
       "    </tr>\n",
       "  </thead>\n",
       "  <tbody>\n",
       "    <tr>\n",
       "      <th>0</th>\n",
       "      <td>HKQuantityTypeIdentifierStepCount</td>\n",
       "      <td>JKM II</td>\n",
       "      <td>10.2.1</td>\n",
       "      <td>0x281e244b0</td>\n",
       "      <td>iPhone</td>\n",
       "      <td>Apple</td>\n",
       "      <td>iPhone</td>\n",
       "      <td>iPhone8,4</td>\n",
       "      <td>10.2.1</td>\n",
       "      <td>count</td>\n",
       "      <td>2017-02-04 18:40:43 -0500</td>\n",
       "      <td>2017-02-04 17:46:36 -0500</td>\n",
       "      <td>2017-02-04 17:53:30 -0500</td>\n",
       "      <td>13</td>\n",
       "      <td>2017</td>\n",
       "      <td>02</td>\n",
       "      <td>04</td>\n",
       "      <td>17</td>\n",
       "      <td>-0500</td>\n",
       "    </tr>\n",
       "    <tr>\n",
       "      <th>1</th>\n",
       "      <td>HKQuantityTypeIdentifierStepCount</td>\n",
       "      <td>JKM II</td>\n",
       "      <td>10.2.1</td>\n",
       "      <td>0x281e24c80</td>\n",
       "      <td>iPhone</td>\n",
       "      <td>Apple</td>\n",
       "      <td>iPhone</td>\n",
       "      <td>iPhone8,4</td>\n",
       "      <td>10.2.1</td>\n",
       "      <td>count</td>\n",
       "      <td>2017-02-04 18:40:43 -0500</td>\n",
       "      <td>2017-02-04 17:53:30 -0500</td>\n",
       "      <td>2017-02-04 17:58:52 -0500</td>\n",
       "      <td>8</td>\n",
       "      <td>2017</td>\n",
       "      <td>02</td>\n",
       "      <td>04</td>\n",
       "      <td>17</td>\n",
       "      <td>-0500</td>\n",
       "    </tr>\n",
       "  </tbody>\n",
       "</table>\n",
       "</div>"
      ],
      "text/plain": [
       "                               types sourceName sourceVersion        device  \\\n",
       "0  HKQuantityTypeIdentifierStepCount     JKM II        10.2.1   0x281e244b0   \n",
       "1  HKQuantityTypeIdentifierStepCount     JKM II        10.2.1   0x281e24c80   \n",
       "\n",
       "     name manufacturer   model   hardware software   unit  \\\n",
       "0  iPhone        Apple  iPhone  iPhone8,4   10.2.1  count   \n",
       "1  iPhone        Apple  iPhone  iPhone8,4   10.2.1  count   \n",
       "\n",
       "                creationDate                  startDate  \\\n",
       "0  2017-02-04 18:40:43 -0500  2017-02-04 17:46:36 -0500   \n",
       "1  2017-02-04 18:40:43 -0500  2017-02-04 17:53:30 -0500   \n",
       "\n",
       "                     endDate value yearSD monthSD daySD hourSD timezoneSD  \n",
       "0  2017-02-04 17:53:30 -0500    13   2017      02    04     17      -0500  \n",
       "1  2017-02-04 17:58:52 -0500     8   2017      02    04     17      -0500  "
      ]
     },
     "execution_count": 5,
     "metadata": {},
     "output_type": "execute_result"
    }
   ],
   "source": [
    "# Add date/time columns\n",
    "df['yearSD'] = df.apply(lambda x: x['startDate'][0:4], axis=1)\n",
    "df['monthSD'] = df.apply(lambda x: x['startDate'][5:7], axis=1)\n",
    "df['daySD'] = df.apply(lambda x: x['startDate'][8:10], axis=1)\n",
    "df['hourSD'] = df.apply(lambda x: x['startDate'][11:13], axis=1)\n",
    "df['timezoneSD'] = df.apply(lambda x: x['startDate'][-5:], axis=1)\n",
    "df.head(2)"
   ]
  },
  {
   "cell_type": "code",
   "execution_count": 6,
   "metadata": {},
   "outputs": [],
   "source": [
    "# Adjust data types\n",
    "df.yearSD = pd.to_numeric(df.yearSD, errors='coerce')\n",
    "df.monthSD = pd.to_numeric(df.monthSD, errors='coerce')\n",
    "df.daySD = pd.to_numeric(df.daySD, errors='coerce')\n",
    "df.hourSD = pd.to_numeric(df.hourSD, errors='coerce')\n",
    "df.value = pd.to_numeric(df.value, errors='coerce')"
   ]
  },
  {
   "cell_type": "code",
   "execution_count": 7,
   "metadata": {},
   "outputs": [
    {
     "data": {
      "text/html": [
       "<div>\n",
       "<style scoped>\n",
       "    .dataframe tbody tr th:only-of-type {\n",
       "        vertical-align: middle;\n",
       "    }\n",
       "\n",
       "    .dataframe tbody tr th {\n",
       "        vertical-align: top;\n",
       "    }\n",
       "\n",
       "    .dataframe thead th {\n",
       "        text-align: right;\n",
       "    }\n",
       "</style>\n",
       "<table border=\"1\" class=\"dataframe\">\n",
       "  <thead>\n",
       "    <tr style=\"text-align: right;\">\n",
       "      <th></th>\n",
       "      <th>types</th>\n",
       "      <th>sourceName</th>\n",
       "      <th>sourceVersion</th>\n",
       "      <th>device</th>\n",
       "      <th>name</th>\n",
       "      <th>manufacturer</th>\n",
       "      <th>model</th>\n",
       "      <th>hardware</th>\n",
       "      <th>software</th>\n",
       "      <th>unit</th>\n",
       "      <th>creationDate</th>\n",
       "      <th>startDate</th>\n",
       "      <th>endDate</th>\n",
       "      <th>value</th>\n",
       "      <th>yearSD</th>\n",
       "      <th>monthSD</th>\n",
       "      <th>daySD</th>\n",
       "      <th>hourSD</th>\n",
       "      <th>timezoneSD</th>\n",
       "      <th>weekDay</th>\n",
       "    </tr>\n",
       "  </thead>\n",
       "  <tbody>\n",
       "    <tr>\n",
       "      <th>0</th>\n",
       "      <td>HKQuantityTypeIdentifierStepCount</td>\n",
       "      <td>JKM II</td>\n",
       "      <td>10.2.1</td>\n",
       "      <td>0x281e244b0</td>\n",
       "      <td>iPhone</td>\n",
       "      <td>Apple</td>\n",
       "      <td>iPhone</td>\n",
       "      <td>iPhone8,4</td>\n",
       "      <td>10.2.1</td>\n",
       "      <td>count</td>\n",
       "      <td>2017-02-04 18:40:43 -0500</td>\n",
       "      <td>2017-02-04 17:46:36 -0500</td>\n",
       "      <td>2017-02-04 17:53:30 -0500</td>\n",
       "      <td>13</td>\n",
       "      <td>2017</td>\n",
       "      <td>2</td>\n",
       "      <td>4</td>\n",
       "      <td>17</td>\n",
       "      <td>-0500</td>\n",
       "      <td>Sat</td>\n",
       "    </tr>\n",
       "    <tr>\n",
       "      <th>1</th>\n",
       "      <td>HKQuantityTypeIdentifierStepCount</td>\n",
       "      <td>JKM II</td>\n",
       "      <td>10.2.1</td>\n",
       "      <td>0x281e24c80</td>\n",
       "      <td>iPhone</td>\n",
       "      <td>Apple</td>\n",
       "      <td>iPhone</td>\n",
       "      <td>iPhone8,4</td>\n",
       "      <td>10.2.1</td>\n",
       "      <td>count</td>\n",
       "      <td>2017-02-04 18:40:43 -0500</td>\n",
       "      <td>2017-02-04 17:53:30 -0500</td>\n",
       "      <td>2017-02-04 17:58:52 -0500</td>\n",
       "      <td>8</td>\n",
       "      <td>2017</td>\n",
       "      <td>2</td>\n",
       "      <td>4</td>\n",
       "      <td>17</td>\n",
       "      <td>-0500</td>\n",
       "      <td>Sat</td>\n",
       "    </tr>\n",
       "  </tbody>\n",
       "</table>\n",
       "</div>"
      ],
      "text/plain": [
       "                               types sourceName sourceVersion        device  \\\n",
       "0  HKQuantityTypeIdentifierStepCount     JKM II        10.2.1   0x281e244b0   \n",
       "1  HKQuantityTypeIdentifierStepCount     JKM II        10.2.1   0x281e24c80   \n",
       "\n",
       "     name manufacturer   model   hardware software   unit  \\\n",
       "0  iPhone        Apple  iPhone  iPhone8,4   10.2.1  count   \n",
       "1  iPhone        Apple  iPhone  iPhone8,4   10.2.1  count   \n",
       "\n",
       "                creationDate                  startDate  \\\n",
       "0  2017-02-04 18:40:43 -0500  2017-02-04 17:46:36 -0500   \n",
       "1  2017-02-04 18:40:43 -0500  2017-02-04 17:53:30 -0500   \n",
       "\n",
       "                     endDate  value  yearSD  monthSD  daySD  hourSD  \\\n",
       "0  2017-02-04 17:53:30 -0500     13    2017        2      4      17   \n",
       "1  2017-02-04 17:58:52 -0500      8    2017        2      4      17   \n",
       "\n",
       "  timezoneSD weekDay  \n",
       "0      -0500     Sat  \n",
       "1      -0500     Sat  "
      ]
     },
     "execution_count": 7,
     "metadata": {},
     "output_type": "execute_result"
    }
   ],
   "source": [
    "# Add weekDay column\n",
    "df['weekDay'] = df.apply(lambda x: datetime.date(x['yearSD'], x['monthSD'], x['daySD']).strftime(\"%a\"), axis=1)\n",
    "df.head(2)"
   ]
  },
  {
   "cell_type": "code",
   "execution_count": 8,
   "metadata": {},
   "outputs": [],
   "source": [
    "# Remove Japan/China trips (2017: May 1-21, 2019: April 9-16)*\n",
    "# * these steps are (1) much higher than normal and \n",
    "#   (2) are recorded in UTC+5 despite happening in and around UTC-9\n",
    "df = df.drop(df[(df.yearSD == 2017) & (df.monthSD == 5) & (df.daySD.isin(list(range(1,22))))].index)\n",
    "df = df.drop(df[(df.yearSD == 2019) & (df.monthSD == 4) & (df.daySD.isin(list(range(9,17))))].index)"
   ]
  },
  {
   "cell_type": "markdown",
   "metadata": {},
   "source": [
    "## Data Exploration"
   ]
  },
  {
   "cell_type": "code",
   "execution_count": 10,
   "metadata": {},
   "outputs": [
    {
     "name": "stdout",
     "output_type": "stream",
     "text": [
      "['JKM II' 'Health' 'JKM 3']\n",
      "['10.2.1' '10.3.1' '10.3.2' '10.3.3' '11.0.1' '11.0.2' '11.0.3' '11.0'\n",
      " '11.1.2' '11.2.5' '11.2.6' '11.4' '11.4.1' '12.0.1' '12.1.1' '12.1.2'\n",
      " '12.1.4' '12.2' '12.3.1' '12.4' '12.4.1']\n",
      "['iPhone' None]\n",
      "['iPhone' None]\n",
      "['iPhone8,4' None 'iPhone10,3']\n",
      "['-0500']\n"
     ]
    }
   ],
   "source": [
    "# Unique values\n",
    "print(df.sourceName.unique())\n",
    "print(df.sourceVersion.unique())\n",
    "print(df.name.unique())\n",
    "print(df.model.unique())\n",
    "print(df.hardware.unique())\n",
    "print(df.timezoneSD.unique())"
   ]
  },
  {
   "cell_type": "code",
   "execution_count": 11,
   "metadata": {},
   "outputs": [
    {
     "data": {
      "text/html": [
       "<div>\n",
       "<style scoped>\n",
       "    .dataframe tbody tr th:only-of-type {\n",
       "        vertical-align: middle;\n",
       "    }\n",
       "\n",
       "    .dataframe tbody tr th {\n",
       "        vertical-align: top;\n",
       "    }\n",
       "\n",
       "    .dataframe thead th {\n",
       "        text-align: right;\n",
       "    }\n",
       "</style>\n",
       "<table border=\"1\" class=\"dataframe\">\n",
       "  <thead>\n",
       "    <tr style=\"text-align: right;\">\n",
       "      <th></th>\n",
       "      <th>types</th>\n",
       "      <th>sourceName</th>\n",
       "      <th>sourceVersion</th>\n",
       "      <th>device</th>\n",
       "      <th>name</th>\n",
       "      <th>manufacturer</th>\n",
       "      <th>model</th>\n",
       "      <th>hardware</th>\n",
       "      <th>software</th>\n",
       "      <th>unit</th>\n",
       "      <th>creationDate</th>\n",
       "      <th>startDate</th>\n",
       "      <th>endDate</th>\n",
       "      <th>value</th>\n",
       "      <th>yearSD</th>\n",
       "      <th>monthSD</th>\n",
       "      <th>daySD</th>\n",
       "      <th>hourSD</th>\n",
       "      <th>timezoneSD</th>\n",
       "      <th>weekDay</th>\n",
       "    </tr>\n",
       "  </thead>\n",
       "  <tbody>\n",
       "    <tr>\n",
       "      <th>24686</th>\n",
       "      <td>HKQuantityTypeIdentifierStepCount</td>\n",
       "      <td>Health</td>\n",
       "      <td>11.4.1</td>\n",
       "      <td>None</td>\n",
       "      <td>None</td>\n",
       "      <td>None</td>\n",
       "      <td>None</td>\n",
       "      <td>None</td>\n",
       "      <td>None</td>\n",
       "      <td>count</td>\n",
       "      <td>2018-08-18 18:26:15 -0500</td>\n",
       "      <td>2018-08-18 18:26:00 -0500</td>\n",
       "      <td>2018-08-18 18:26:00 -0500</td>\n",
       "      <td>8000</td>\n",
       "      <td>2018</td>\n",
       "      <td>8</td>\n",
       "      <td>18</td>\n",
       "      <td>18</td>\n",
       "      <td>-0500</td>\n",
       "      <td>Sat</td>\n",
       "    </tr>\n",
       "  </tbody>\n",
       "</table>\n",
       "</div>"
      ],
      "text/plain": [
       "                                   types sourceName sourceVersion device  \\\n",
       "24686  HKQuantityTypeIdentifierStepCount     Health        11.4.1   None   \n",
       "\n",
       "       name manufacturer model hardware software   unit  \\\n",
       "24686  None         None  None     None     None  count   \n",
       "\n",
       "                    creationDate                  startDate  \\\n",
       "24686  2018-08-18 18:26:15 -0500  2018-08-18 18:26:00 -0500   \n",
       "\n",
       "                         endDate  value  yearSD  monthSD  daySD  hourSD  \\\n",
       "24686  2018-08-18 18:26:00 -0500   8000    2018        8     18      18   \n",
       "\n",
       "      timezoneSD weekDay  \n",
       "24686      -0500     Sat  "
      ]
     },
     "execution_count": 11,
     "metadata": {},
     "output_type": "execute_result"
    }
   ],
   "source": [
    "# 'Health' sourceName\n",
    "df.loc[df['sourceName'] == 'Health']"
   ]
  },
  {
   "cell_type": "code",
   "execution_count": 12,
   "metadata": {},
   "outputs": [
    {
     "name": "stdout",
     "output_type": "stream",
     "text": [
      "yearSD     2017     2018     2019\n",
      "hourSD                           \n",
      "0       56995.0  18037.0   6823.0\n",
      "1       11569.0  14761.0   1879.0\n",
      "2        2710.0   1198.0    726.0\n",
      "3        1186.0   1715.0    634.0\n",
      "4         554.0   1034.0  13510.0\n"
     ]
    }
   ],
   "source": [
    "# Group step count by hour of day\n",
    "hours_df = df[['yearSD', 'hourSD', 'value']]\n",
    "hours_df = pd.pivot_table(hours_df, values='value', index=['hourSD'], columns=['yearSD'],\n",
    "                          aggfunc=np.sum)\n",
    "hours_df.drop(columns=[2014, 2015], inplace=True)\n",
    "print(hours_df.head(5))"
   ]
  },
  {
   "cell_type": "code",
   "execution_count": 13,
   "metadata": {},
   "outputs": [
    {
     "data": {
      "text/plain": [
       "<matplotlib.legend.Legend at 0x128922b00>"
      ]
     },
     "execution_count": 13,
     "metadata": {},
     "output_type": "execute_result"
    }
   ],
   "source": [
    "# Hour of day graph\n",
    "p = hours_df.plot.bar(title='Total Steps per Hour (2017-2019)')\n",
    "p.set_xlabel('hour of day')\n",
    "p.set_ylabel('total steps')\n",
    "p.legend(title='years')"
   ]
  },
  {
   "cell_type": "code",
   "execution_count": 14,
   "metadata": {},
   "outputs": [],
   "source": [
    "# Create weekday/weekend tables\n",
    "new_df = df[['weekDay', 'yearSD', 'hourSD', 'value']]\n",
    "weekDay_df = new_df.loc[~new_df['weekDay'].isin(['Sat', 'Sun'])]\n",
    "weekEnd_df = new_df.loc[new_df['weekDay'].isin(['Sat', 'Sun'])]"
   ]
  },
  {
   "cell_type": "code",
   "execution_count": 15,
   "metadata": {},
   "outputs": [
    {
     "data": {
      "text/plain": [
       "<matplotlib.legend.Legend at 0x128e905c0>"
      ]
     },
     "execution_count": 15,
     "metadata": {},
     "output_type": "execute_result"
    },
    {
     "data": {
      "image/png": "[encoded data removed]",
      "text/plain": [
       "<Figure size 432x288 with 1 Axes>"
      ]
     },
     "metadata": {
      "needs_background": "light"
     },
     "output_type": "display_data"
    }
   ],
   "source": [
    "# Week Day graph\n",
    "weekDay_df = pd.pivot_table(weekDay_df, values='value', index=['hourSD'], columns=['yearSD'],\n",
    "                          aggfunc=np.sum)\n",
    "weekDay_df.drop(columns=[2014, 2015], inplace=True)\n",
    "\n",
    "q = weekDay_df.plot.bar(title='Week Days: Total Steps per Hour (2017-2019)')\n",
    "q.set_xlabel('hour of day')\n",
    "q.set_ylabel('total steps')\n",
    "q.legend(title='years')"
   ]
  },
  {
   "cell_type": "code",
   "execution_count": null,
   "metadata": {},
   "outputs": [],
   "source": [
    "# Weekend graph\n",
    "weekEnd_df = pd.pivot_table(weekEnd_df, values='value', index=['hourSD'], columns=['yearSD'],\n",
    "                          aggfunc=np.sum)\n",
    "weekEnd_df.head(5)\n",
    "\n",
    "q = weekEnd_df.plot.bar(title='Weekend: Total Steps per Hour (2017-2019)')\n",
    "q.set_xlabel('hour of day')\n",
    "q.set_ylabel('total steps')\n",
    "q.legend(title='years')"
   ]
  },
  {
   "cell_type": "code",
   "execution_count": null,
   "metadata": {},
   "outputs": [],
   "source": []
  }
 ],
 "metadata": {
  "kernelspec": {
   "display_name": "Python 3",
   "language": "python",
   "name": "python3"
  },
  "language_info": {
   "codemirror_mode": {
    "name": "ipython",
    "version": 3
   },
   "file_extension": ".py",
   "mimetype": "text/x-python",
   "name": "python",
   "nbconvert_exporter": "python",
   "pygments_lexer": "ipython3",
   "version": "3.7.3"
  }
 },
 "nbformat": 4,
 "nbformat_minor": 2
}
